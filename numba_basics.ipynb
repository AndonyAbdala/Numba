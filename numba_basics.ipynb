{
  "nbformat": 4,
  "nbformat_minor": 0,
  "metadata": {
    "colab": {
      "name": "numba_basics.ipynb",
      "provenance": [],
      "collapsed_sections": [],
      "include_colab_link": true
    },
    "kernelspec": {
      "display_name": "Python 3",
      "language": "python",
      "name": "python3"
    },
    "language_info": {
      "codemirror_mode": {
        "name": "ipython",
        "version": 3
      },
      "file_extension": ".py",
      "mimetype": "text/x-python",
      "name": "python",
      "nbconvert_exporter": "python",
      "pygments_lexer": "ipython3",
      "version": "3.7.7"
    }
  },
  "cells": [
    {
      "cell_type": "markdown",
      "metadata": {
        "id": "view-in-github",
        "colab_type": "text"
      },
      "source": [
        "<a href=\"https://colab.research.google.com/github/AndonyAbdala/PRUEBA/blob/master/numba_basics.ipynb\" target=\"_parent\"><img src=\"https://colab.research.google.com/assets/colab-badge.svg\" alt=\"Open In Colab\"/></a>"
      ]
    },
    {
      "cell_type": "markdown",
      "metadata": {
        "colab_type": "text",
        "id": "2KkAfu6TuS9y"
      },
      "source": [
        "# Numba básico\n",
        "---\n",
        "## Introducción a Inteligencia Artificial y Supercómputo \n",
        "---"
      ]
    },
    {
      "cell_type": "code",
      "metadata": {
        "colab_type": "code",
        "id": "pvEKykU6uS9z",
        "colab": {
          "base_uri": "https://localhost:8080/",
          "height": 330
        },
        "outputId": "b7f31109-94a5-4f5c-bfce-86d619011969"
      },
      "source": [
        "!pip install perfplot\n",
        "import numba\n",
        "import numpy as np\n",
        "import perfplot\n",
        "from numba import jit, njit"
      ],
      "execution_count": null,
      "outputs": [
        {
          "output_type": "stream",
          "text": [
            "Collecting perfplot\n",
            "  Downloading https://files.pythonhosted.org/packages/7e/6d/6cd621b102301fe0cce9d24df1f7b44c4b929efa087f997dcec88a512e7d/perfplot-0.8.1-py3-none-any.whl\n",
            "Requirement already satisfied: tqdm in /usr/local/lib/python3.6/dist-packages (from perfplot) (4.41.1)\n",
            "Collecting dufte\n",
            "  Downloading https://files.pythonhosted.org/packages/c2/bb/6f5241b182258315a6d5c5a6ecd8fbe5e10150cfd36a36e919bc01f952c4/dufte-0.2.9-py3-none-any.whl\n",
            "Requirement already satisfied: importlib-metadata in /usr/local/lib/python3.6/dist-packages (from perfplot) (1.7.0)\n",
            "Collecting termtables\n",
            "  Downloading https://files.pythonhosted.org/packages/66/fd/ad699c66d9ebc6a6446c103e411defee2a057fc9156ec12c339a698788aa/termtables-0.2.2-py3-none-any.whl\n",
            "Requirement already satisfied: numpy in /usr/local/lib/python3.6/dist-packages (from perfplot) (1.18.5)\n",
            "Requirement already satisfied: matplotlib in /usr/local/lib/python3.6/dist-packages (from perfplot) (3.2.2)\n",
            "Requirement already satisfied: zipp>=0.5 in /usr/local/lib/python3.6/dist-packages (from importlib-metadata->perfplot) (3.1.0)\n",
            "Requirement already satisfied: kiwisolver>=1.0.1 in /usr/local/lib/python3.6/dist-packages (from matplotlib->perfplot) (1.2.0)\n",
            "Requirement already satisfied: python-dateutil>=2.1 in /usr/local/lib/python3.6/dist-packages (from matplotlib->perfplot) (2.8.1)\n",
            "Requirement already satisfied: pyparsing!=2.0.4,!=2.1.2,!=2.1.6,>=2.0.1 in /usr/local/lib/python3.6/dist-packages (from matplotlib->perfplot) (2.4.7)\n",
            "Requirement already satisfied: cycler>=0.10 in /usr/local/lib/python3.6/dist-packages (from matplotlib->perfplot) (0.10.0)\n",
            "Requirement already satisfied: six>=1.5 in /usr/local/lib/python3.6/dist-packages (from python-dateutil>=2.1->matplotlib->perfplot) (1.15.0)\n",
            "Installing collected packages: dufte, termtables, perfplot\n",
            "Successfully installed dufte-0.2.9 perfplot-0.8.1 termtables-0.2.2\n"
          ],
          "name": "stdout"
        }
      ]
    },
    {
      "cell_type": "markdown",
      "metadata": {
        "colab_type": "text",
        "id": "w88eL8GQuS93"
      },
      "source": [
        "Numba usa **decoradores** de Python para transformar las funciones en funciones que se compilan. El decorador de Numba  es `@jit`, que crea una función normal para la ejecución en la CPU.\n",
        "\n",
        "La función es compilada y transformada a code máquina una vez que está es llamada por primera vez.\n",
        "\n",
        "Numba funciona mejor en operaciones con matrices NumPy. Aquí hay un ejemplo:"
      ]
    },
    {
      "cell_type": "code",
      "metadata": {
        "colab_type": "code",
        "id": "CVqzx2efuS93",
        "colab": {}
      },
      "source": [
        "@jit(nopython=True)\n",
        "def numba_function(a):\n",
        "    trace = 0.0\n",
        "    for i in range(a.shape[0]):\n",
        "        trace += np.tanh(a[i, i])\n",
        "    return a + trace"
      ],
      "execution_count": null,
      "outputs": []
    },
    {
      "cell_type": "markdown",
      "metadata": {
        "colab_type": "text",
        "id": "adTPLMvRuS96"
      },
      "source": [
        "La opción `nopython=True` hace que la función se compile completamente (las llamadas del intérprete de Python se eliminen por completo), de lo contrario, se genera una excepción."
      ]
    },
    {
      "cell_type": "code",
      "metadata": {
        "colab_type": "code",
        "id": "uKTvJmn7uS97",
        "colab": {
          "base_uri": "https://localhost:8080/",
          "height": 191
        },
        "outputId": "d3886344-e3a1-406b-f507-9e8c60559ad7"
      },
      "source": [
        "x = np.arange(100).reshape(10, 10)\n",
        "numba_function(x)"
      ],
      "execution_count": null,
      "outputs": [
        {
          "output_type": "execute_result",
          "data": {
            "text/plain": [
              "array([[  9.,  10.,  11.,  12.,  13.,  14.,  15.,  16.,  17.,  18.],\n",
              "       [ 19.,  20.,  21.,  22.,  23.,  24.,  25.,  26.,  27.,  28.],\n",
              "       [ 29.,  30.,  31.,  32.,  33.,  34.,  35.,  36.,  37.,  38.],\n",
              "       [ 39.,  40.,  41.,  42.,  43.,  44.,  45.,  46.,  47.,  48.],\n",
              "       [ 49.,  50.,  51.,  52.,  53.,  54.,  55.,  56.,  57.,  58.],\n",
              "       [ 59.,  60.,  61.,  62.,  63.,  64.,  65.,  66.,  67.,  68.],\n",
              "       [ 69.,  70.,  71.,  72.,  73.,  74.,  75.,  76.,  77.,  78.],\n",
              "       [ 79.,  80.,  81.,  82.,  83.,  84.,  85.,  86.,  87.,  88.],\n",
              "       [ 89.,  90.,  91.,  92.,  93.,  94.,  95.,  96.,  97.,  98.],\n",
              "       [ 99., 100., 101., 102., 103., 104., 105., 106., 107., 108.]])"
            ]
          },
          "metadata": {
            "tags": []
          },
          "execution_count": 3
        }
      ]
    },
    {
      "cell_type": "markdown",
      "metadata": {
        "colab_type": "text",
        "id": "T8t3hXhzuS9-"
      },
      "source": [
        "La primera vez que se llamó a la función, está fue copilada y ejecutada. Si se llama nuevamente, ya no se generará el proceso de compilación."
      ]
    },
    {
      "cell_type": "code",
      "metadata": {
        "colab_type": "code",
        "id": "qSL5Ki0muS9-",
        "colab": {
          "base_uri": "https://localhost:8080/",
          "height": 191
        },
        "outputId": "69df1c96-fdb8-4111-fad5-ff0d8c714eb5"
      },
      "source": [
        "numba_function(2*x)"
      ],
      "execution_count": null,
      "outputs": [
        {
          "output_type": "execute_result",
          "data": {
            "text/plain": [
              "array([[  9.,  11.,  13.,  15.,  17.,  19.,  21.,  23.,  25.,  27.],\n",
              "       [ 29.,  31.,  33.,  35.,  37.,  39.,  41.,  43.,  45.,  47.],\n",
              "       [ 49.,  51.,  53.,  55.,  57.,  59.,  61.,  63.,  65.,  67.],\n",
              "       [ 69.,  71.,  73.,  75.,  77.,  79.,  81.,  83.,  85.,  87.],\n",
              "       [ 89.,  91.,  93.,  95.,  97.,  99., 101., 103., 105., 107.],\n",
              "       [109., 111., 113., 115., 117., 119., 121., 123., 125., 127.],\n",
              "       [129., 131., 133., 135., 137., 139., 141., 143., 145., 147.],\n",
              "       [149., 151., 153., 155., 157., 159., 161., 163., 165., 167.],\n",
              "       [169., 171., 173., 175., 177., 179., 181., 183., 185., 187.],\n",
              "       [189., 191., 193., 195., 197., 199., 201., 203., 205., 207.]])"
            ]
          },
          "metadata": {
            "tags": []
          },
          "execution_count": 4
        }
      ]
    },
    {
      "cell_type": "markdown",
      "metadata": {
        "colab_type": "text",
        "id": "kY5i7fGYuS-A"
      },
      "source": [
        "Se realiza una medición del tiempo de ejecución a través de *timeit* para compara el tiempo que tarda en termina una tarea con y sin Numba."
      ]
    },
    {
      "cell_type": "code",
      "metadata": {
        "colab_type": "code",
        "id": "4o8Tjq1IuS-B",
        "colab": {
          "base_uri": "https://localhost:8080/",
          "height": 106
        },
        "outputId": "f0f3d7f8-a439-450f-d0e5-f6d7f41005b4"
      },
      "source": [
        "%timeit numba_function.py_func(x)\n",
        "%timeit numba_function(x)"
      ],
      "execution_count": null,
      "outputs": [
        {
          "output_type": "stream",
          "text": [
            "The slowest run took 5.34 times longer than the fastest. This could mean that an intermediate result is being cached.\n",
            "10000 loops, best of 3: 21.9 µs per loop\n",
            "The slowest run took 21.31 times longer than the fastest. This could mean that an intermediate result is being cached.\n",
            "1000000 loops, best of 3: 855 ns per loop\n"
          ],
          "name": "stdout"
        }
      ]
    },
    {
      "cell_type": "markdown",
      "metadata": {
        "colab_type": "text",
        "id": "fkgQK3OwuS-G"
      },
      "source": [
        "Una razón por la cual hay tanta diferencia es que los loops de Numba son muy rápidos en comparación de un loop común de Python. Sin embargo, la función `numba_function` puede ser representada con operaciones de Numpy como a continuación."
      ]
    },
    {
      "cell_type": "code",
      "metadata": {
        "colab_type": "code",
        "id": "XrTZA3vbuS-H",
        "colab": {}
      },
      "source": [
        "def numpy_function(a):\n",
        "    return a + np.tanh(np.diagonal(a)).sum()"
      ],
      "execution_count": null,
      "outputs": []
    },
    {
      "cell_type": "code",
      "metadata": {
        "colab_type": "code",
        "id": "RnQP-RkUuS-J",
        "colab": {
          "base_uri": "https://localhost:8080/",
          "height": 106
        },
        "outputId": "d49f2e0f-f1cd-44bd-dffa-3dc1fd591b45"
      },
      "source": [
        "%timeit numpy_function(x)\n",
        "%timeit numba_function(x)"
      ],
      "execution_count": null,
      "outputs": [
        {
          "output_type": "stream",
          "text": [
            "The slowest run took 19.17 times longer than the fastest. This could mean that an intermediate result is being cached.\n",
            "100000 loops, best of 3: 8.83 µs per loop\n",
            "The slowest run took 46.80 times longer than the fastest. This could mean that an intermediate result is being cached.\n",
            "1000000 loops, best of 3: 848 ns per loop\n"
          ],
          "name": "stdout"
        }
      ]
    },
    {
      "cell_type": "code",
      "metadata": {
        "colab_type": "code",
        "id": "cqF85BiIAhne",
        "colab": {}
      },
      "source": [
        "@jit(nopython=True)\n",
        "def distance(X):\n",
        "    M = X.shape[0]\n",
        "    N = X.shape[1]\n",
        "    D = np.empty((M, M), dtype=np.float32)\n",
        "    for i in range(M):\n",
        "        for j in range(M):\n",
        "            d = 0.0\n",
        "            for k in range(N):\n",
        "                tmp = X[i, k] - X[j, k]\n",
        "                d += tmp * tmp\n",
        "            D[i, j] = np.sqrt(d)\n",
        "    return D\n",
        "\n",
        "def numpy_distance(X):\n",
        "    return np.sqrt(((X[:, None, :] - X) ** 2).sum(-1))"
      ],
      "execution_count": null,
      "outputs": []
    },
    {
      "cell_type": "code",
      "metadata": {
        "colab_type": "code",
        "id": "D-5RVSm4A2BN",
        "colab": {}
      },
      "source": [
        "A = np.random.random((1000, 10)).astype(np.float32)"
      ],
      "execution_count": null,
      "outputs": []
    },
    {
      "cell_type": "code",
      "metadata": {
        "colab_type": "code",
        "id": "VV0jProQDhL4",
        "colab": {
          "base_uri": "https://localhost:8080/",
          "height": 106
        },
        "outputId": "34bb076c-cb23-43f1-e25d-3f4052daacd4"
      },
      "source": [
        "%timeit distance.py_func(A)\n",
        "%timeit numpy_distance(A)\n",
        "%timeit distance(A)"
      ],
      "execution_count": null,
      "outputs": [
        {
          "output_type": "stream",
          "text": [
            "1 loop, best of 3: 11.3 s per loop\n",
            "10 loops, best of 3: 37.6 ms per loop\n",
            "The slowest run took 12.29 times longer than the fastest. This could mean that an intermediate result is being cached.\n",
            "100 loops, best of 3: 14.6 ms per loop\n"
          ],
          "name": "stdout"
        }
      ]
    },
    {
      "cell_type": "code",
      "metadata": {
        "colab_type": "code",
        "id": "hyZkAc3-EB0f",
        "colab": {
          "base_uri": "https://localhost:8080/",
          "height": 653
        },
        "outputId": "02c9c09c-7043-4ee9-8a96-fb8b8360a9d8"
      },
      "source": [
        "perfplot.show(\n",
        "    setup=lambda n: np.ones((n, n)),\n",
        "    kernels=[\n",
        "        lambda a: numpy_distance(a),\n",
        "        lambda a: distance.py_func(a),\n",
        "        lambda a: distance(a)\n",
        "    ],\n",
        "    labels=[\"Numpy\", \"Python\", \"Numba\"],\n",
        "    n_range=[10, 20, 50, 100],\n",
        "    xlabel=\"len(a)\",\n",
        "    logx=True,\n",
        "    logy=True,\n",
        ")"
      ],
      "execution_count": null,
      "outputs": [
        {
          "output_type": "stream",
          "text": [
            "  0%|          | 0/4 [00:00<?, ?it/s]\n",
            "  0%|          | 0/3 [00:00<?, ?it/s]\u001b[A\n",
            " 33%|███▎      | 1/3 [00:00<00:00,  6.57it/s]\u001b[A\n",
            " 67%|██████▋   | 2/3 [00:00<00:00,  4.09it/s]\u001b[A\n",
            "100%|██████████| 3/3 [00:01<00:00,  2.87it/s]\u001b[A\n",
            " 25%|██▌       | 1/4 [00:01<00:03,  1.22s/it]\n",
            "  0%|          | 0/3 [00:00<?, ?it/s]\u001b[A\n",
            " 33%|███▎      | 1/3 [00:00<00:00,  2.93it/s]\u001b[A\n",
            " 67%|██████▋   | 2/3 [00:01<00:00,  2.13it/s]\u001b[A\n",
            "100%|██████████| 3/3 [00:01<00:00,  1.77it/s]\u001b[A\n",
            " 50%|█████     | 2/4 [00:03<00:02,  1.43s/it]\n",
            "  0%|          | 0/3 [00:00<?, ?it/s]\u001b[A\n",
            " 33%|███▎      | 1/3 [00:00<00:01,  1.50it/s]\u001b[A\n",
            " 67%|██████▋   | 2/3 [00:01<00:00,  1.23it/s]\u001b[A\n",
            "100%|██████████| 3/3 [00:02<00:00,  1.30it/s]\u001b[A\n",
            " 75%|███████▌  | 3/4 [00:05<00:01,  1.75s/it]\n",
            "  0%|          | 0/3 [00:00<?, ?it/s]\u001b[A\n",
            " 33%|███▎      | 1/3 [00:00<00:01,  1.88it/s]\u001b[A\n",
            " 67%|██████▋   | 2/3 [00:02<00:00,  1.01it/s]\u001b[A\n",
            "100%|██████████| 3/3 [00:03<00:00,  1.13s/it]\n",
            "100%|██████████| 4/4 [00:09<00:00,  2.26s/it]\n"
          ],
          "name": "stderr"
        },
        {
          "output_type": "display_data",
          "data": {
            "image/png": "[encoded data removed]",
            "text/plain": [
              "<Figure size 432x288 with 1 Axes>"
            ]
          },
          "metadata": {
            "tags": [],
            "needs_background": "dark"
          }
        }
      ]
    },
    {
      "cell_type": "markdown",
      "metadata": {
        "colab_type": "text",
        "id": "pB9Z9gzhuS-L"
      },
      "source": [
        "Se observa que aún con las funciones de Numpy este sigue siendo más lento que Numba."
      ]
    },
    {
      "cell_type": "markdown",
      "metadata": {
        "colab_type": "text",
        "id": "dGDt5_oAuS-M"
      },
      "source": [
        "A pesar de esto, se puede combinar Numpy y Numba, pero no todas las operaciones están [soportadas](http://numba.pydata.org/numba-doc/dev/reference/numpysupported.html)."
      ]
    },
    {
      "cell_type": "markdown",
      "metadata": {
        "colab_type": "text",
        "id": "Qg3ds1uKuS-M"
      },
      "source": [
        "## Paralelización\n",
        "___"
      ]
    },
    {
      "cell_type": "markdown",
      "metadata": {
        "colab_type": "text",
        "id": "Lqc4jUmVuS-N"
      },
      "source": [
        "Numba soporta varios enfoques para paralelizar:\n",
        "\n",
        "- Paralelización automática de operaciones con matrices.\n",
        "- Subprocesamiento múltiple explícito de bucles con `prange()`."
      ]
    },
    {
      "cell_type": "markdown",
      "metadata": {
        "colab_type": "text",
        "id": "lOLYkQsYuS-N"
      },
      "source": [
        "Las operaciones con matrices en NumPy tienen una cantidad significativa de paralelismo implícito. Numba puede identificar este paralelismo y distribuirlo automáticamente en varios subprocesos. Todo lo que se tiene que hacer es habilitar el parámetro de paralelización con `parallel=True` en el decorador:"
      ]
    },
    {
      "cell_type": "markdown",
      "metadata": {
        "colab_type": "text",
        "id": "5bBrf7imuS-O"
      },
      "source": [
        "### Paralelización automática"
      ]
    },
    {
      "cell_type": "code",
      "metadata": {
        "colab_type": "code",
        "id": "CqOrgrHuuS-O",
        "colab": {}
      },
      "source": [
        "SQRT_2PI = np.sqrt(2 * np.pi)\n",
        "\n",
        "@jit(nopython=True, parallel=True)\n",
        "def gaussians(x, means, widths):\n",
        "    n = means.shape[0]\n",
        "    result = np.exp( -0.5 * ((x - means) / widths)**2 ) / widths\n",
        "    return result / SQRT_2PI / n"
      ],
      "execution_count": null,
      "outputs": []
    },
    {
      "cell_type": "code",
      "metadata": {
        "colab_type": "code",
        "id": "YSXd_Z2duS-R",
        "colab": {
          "base_uri": "https://localhost:8080/",
          "height": 52
        },
        "outputId": "21933fe4-dacd-47ff-ab8a-4b8f33f0c8e7"
      },
      "source": [
        "means = np.random.uniform(-1, 1, size=1000000)\n",
        "widths = np.random.uniform(0.1, 0.3, size=1000000)\n",
        "\n",
        "gaussians(0.4, means, widths)"
      ],
      "execution_count": null,
      "outputs": [
        {
          "output_type": "execute_result",
          "data": {
            "text/plain": [
              "array([1.30353947e-24, 1.11946737e-10, 6.28150530e-10, ...,\n",
              "       7.54829176e-23, 1.56101333e-06, 7.73839720e-07])"
            ]
          },
          "metadata": {
            "tags": []
          },
          "execution_count": 13
        }
      ]
    },
    {
      "cell_type": "markdown",
      "metadata": {
        "colab_type": "text",
        "id": "kW84LeS7uS-T"
      },
      "source": [
        "Comparemos el desempeño con paralelización, sin paralelización y Numpy puro."
      ]
    },
    {
      "cell_type": "code",
      "metadata": {
        "colab_type": "code",
        "id": "RTCyzH58uS-U",
        "colab": {
          "base_uri": "https://localhost:8080/",
          "height": 159
        },
        "outputId": "0054e0fe-340d-47f7-ea05-d8099886ae1e"
      },
      "source": [
        "nothread = jit(nopython=True)(gaussians.py_func)\n",
        "print(\"Python\")\n",
        "%timeit gaussians.py_func(0.4, means, widths)\n",
        "print(\"No paralelo con Numba\")\n",
        "%timeit nothread(0.4, means, widths)\n",
        "print(\"Paralelizado con Numba\")\n",
        "%timeit gaussians(0.4, means, widths)"
      ],
      "execution_count": null,
      "outputs": [
        {
          "output_type": "stream",
          "text": [
            "Python\n",
            "10 loops, best of 3: 26.5 ms per loop\n",
            "No paralelo con Numba\n",
            "The slowest run took 11.88 times longer than the fastest. This could mean that an intermediate result is being cached.\n",
            "1 loop, best of 3: 20.5 ms per loop\n",
            "Paralelizado con Numba\n",
            "100 loops, best of 3: 16.1 ms per loop\n"
          ],
          "name": "stdout"
        }
      ]
    },
    {
      "cell_type": "markdown",
      "metadata": {
        "colab_type": "text",
        "id": "79v_b9spuS-X"
      },
      "source": [
        "### Paralelización con `prange()`"
      ]
    },
    {
      "cell_type": "markdown",
      "metadata": {
        "colab_type": "text",
        "id": "pyeNBBZUuS-Y"
      },
      "source": [
        "El uso de `prange()` en un bucle `for` indica a Numba que este es un bucle donde cada iteración es independiente de la otra y puede ejecutarse en paralelo.\n",
        "\n",
        "Por ejemplo, podríamos querer ejecutar muchas pruebas de Monte Carlo seguidas."
      ]
    },
    {
      "cell_type": "markdown",
      "metadata": {
        "id": "v3e0Ghw6hJjH",
        "colab_type": "text"
      },
      "source": [
        "![pi_computation.jpg](data:image/jpeg;base64,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)"
      ]
    },
    {
      "cell_type": "code",
      "metadata": {
        "colab_type": "code",
        "id": "2YPzbqqguS-Y",
        "colab": {}
      },
      "source": [
        "import random\n",
        "\n",
        "@jit(nopython=True)\n",
        "def monte_carlo_serial(nsamples):\n",
        "    acc = 0\n",
        "    for i in range(nsamples):\n",
        "        x = random.random()\n",
        "        y = random.random()\n",
        "        if (x**2 + y**2) < 1.0:\n",
        "            acc += 1\n",
        "    return 4.0 * acc / nsamples\n",
        "\n",
        "\n",
        "@jit(nopython=True, parallel=True)\n",
        "def monte_carlo_parallel(nsamples):\n",
        "    acc = 0\n",
        "    for i in numba.prange(nsamples):\n",
        "        x = random.random()\n",
        "        y = random.random()\n",
        "        if (x**2 + y**2) < 1.0:\n",
        "            acc += 1\n",
        "    return 4.0 * acc / nsamples"
      ],
      "execution_count": null,
      "outputs": []
    },
    {
      "cell_type": "code",
      "metadata": {
        "id": "lr3oCHDlUlob",
        "colab_type": "code",
        "colab": {
          "base_uri": "https://localhost:8080/",
          "height": 86
        },
        "outputId": "74d915ec-bec4-4912-8294-73f07b208ded"
      },
      "source": [
        "print(monte_carlo_parallel(10))\n",
        "print(monte_carlo_parallel(100))\n",
        "print(monte_carlo_parallel(1000))\n",
        "print(monte_carlo_parallel(10000))"
      ],
      "execution_count": null,
      "outputs": [
        {
          "output_type": "stream",
          "text": [
            "3.6\n",
            "3.36\n",
            "3.148\n",
            "3.1508\n"
          ],
          "name": "stdout"
        }
      ]
    },
    {
      "cell_type": "code",
      "metadata": {
        "colab_type": "code",
        "id": "BqjIovQkuS-b",
        "colab": {
          "base_uri": "https://localhost:8080/",
          "height": 52
        },
        "outputId": "25ae1d5f-3d4c-48af-e56d-d6a38cc2a375"
      },
      "source": [
        "%timeit monte_carlo_serial(1000000000)\n",
        "\n",
        "%timeit monte_carlo_parallel(1000000000)"
      ],
      "execution_count": null,
      "outputs": [
        {
          "output_type": "stream",
          "text": [
            "1 loop, best of 3: 13.3 s per loop\n",
            "1 loop, best of 3: 12 s per loop\n"
          ],
          "name": "stdout"
        }
      ]
    },
    {
      "cell_type": "markdown",
      "metadata": {
        "colab_type": "text",
        "id": "oboiPxPv7cfI"
      },
      "source": [
        "### Diccionarios"
      ]
    },
    {
      "cell_type": "markdown",
      "metadata": {
        "colab_type": "text",
        "id": "mv82YkKV5FTO"
      },
      "source": [
        "Algunas características de Python NO están soportadas en Numba, por ejemplo, el uso de diccionarios (`dic`) inicializados."
      ]
    },
    {
      "cell_type": "code",
      "metadata": {
        "colab_type": "code",
        "id": "oVUqBtczuS-d",
        "colab": {}
      },
      "source": [
        "@jit(nopython=True)\n",
        "def no_init_dict():\n",
        "    d = dict()\n",
        "    d[0] = 1\n",
        "    return d\n",
        "\n",
        "@jit(nopython=True)\n",
        "def init_dict():\n",
        "    d = dict({0:1})\n",
        "    return d"
      ],
      "execution_count": null,
      "outputs": []
    },
    {
      "cell_type": "code",
      "metadata": {
        "colab_type": "code",
        "id": "A3RvpTBDu1fV",
        "colab": {
          "base_uri": "https://localhost:8080/",
          "height": 34
        },
        "outputId": "524c3911-0c09-48ca-84b5-870a2e6697b8"
      },
      "source": [
        "no_d = no_init_dict()\n",
        "print(no_d)"
      ],
      "execution_count": null,
      "outputs": [
        {
          "output_type": "stream",
          "text": [
            "{0: 1}\n"
          ],
          "name": "stdout"
        }
      ]
    },
    {
      "cell_type": "code",
      "metadata": {
        "colab_type": "code",
        "id": "sv9UpUYuwUgJ",
        "colab": {
          "base_uri": "https://localhost:8080/",
          "height": 34
        },
        "outputId": "436d9b75-56a0-45a9-a38f-a8c4b7e4201c"
      },
      "source": [
        "# d = init_dict()\n",
        "d = init_dict.py_func()\n",
        "print(d)"
      ],
      "execution_count": null,
      "outputs": [
        {
          "output_type": "stream",
          "text": [
            "{0: 1}\n"
          ],
          "name": "stdout"
        }
      ]
    },
    {
      "cell_type": "code",
      "metadata": {
        "id": "tKIrcX3yXIcE",
        "colab_type": "code",
        "colab": {}
      },
      "source": [
        ""
      ],
      "execution_count": null,
      "outputs": []
    }
  ]
}